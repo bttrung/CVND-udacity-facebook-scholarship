{
  "nbformat": 4,
  "nbformat_minor": 0,
  "metadata": {
    "colab": {
      "name": "4_Fashion MNIST Training Exercise.ipynb",
      "provenance": [],
      "collapsed_sections": [],
      "include_colab_link": true
    },
    "kernelspec": {
      "name": "python3",
      "display_name": "Python 3"
    }
  },
  "cells": [
    {
      "cell_type": "markdown",
      "metadata": {
        "id": "view-in-github",
        "colab_type": "text"
      },
      "source": [
        "<a href=\"https://colab.research.google.com/github/bttrung/CVND-udacity-facebook-scholarship/blob/master/5-cnn-layers/4_Fashion_MNIST_Training_Exercise.ipynb\" target=\"_parent\"><img src=\"https://colab.research.google.com/assets/colab-badge.svg\" alt=\"Open In Colab\"/></a>"
      ]
    },
    {
      "cell_type": "code",
      "metadata": {
        "id": "sNen00d7Q4XH",
        "colab_type": "code",
        "colab": {
          "base_uri": "https://localhost:8080/",
          "height": 221
        },
        "outputId": "a5ff6215-29b8-46d7-ff1c-123154b3007b"
      },
      "source": [
        "import cv2\n",
        "import matplotlib.pyplot as plt\n",
        "import numpy as np\n",
        "%matplotlib inline\n",
        "\n",
        "!git clone -l -s https://github.com/bttrung/CVND-udacity-facebook-scholarship.git\n",
        "%cd cloned-repo\n",
        "!ls"
      ],
      "execution_count": 1,
      "outputs": [
        {
          "output_type": "stream",
          "text": [
            "Cloning into 'CVND-udacity-facebook-scholarship'...\n",
            "warning: --local is ignored\n",
            "remote: Enumerating objects: 24, done.\u001b[K\n",
            "remote: Counting objects: 100% (24/24), done.\u001b[K\n",
            "remote: Compressing objects: 100% (24/24), done.\u001b[K\n",
            "remote: Total 770 (delta 13), reused 0 (delta 0), pack-reused 746\u001b[K\n",
            "Receiving objects: 100% (770/770), 131.43 MiB | 35.27 MiB/s, done.\n",
            "Resolving deltas: 100% (142/142), done.\n",
            "Checking out files: 100% (505/505), done.\n",
            "[Errno 2] No such file or directory: 'cloned-repo'\n",
            "/content\n",
            "CVND-udacity-facebook-scholarship  sample_data\n"
          ],
          "name": "stdout"
        }
      ]
    },
    {
      "cell_type": "code",
      "metadata": {
        "id": "3XxTmvgURGwm",
        "colab_type": "code",
        "colab": {}
      },
      "source": [
        "# our basic libraries\n",
        "import torch\n",
        "import torchvision\n",
        "\n",
        "# data loading and transforming\n",
        "from torchvision.datasets import FashionMNIST\n",
        "from torch.utils.data import DataLoader\n",
        "from torchvision import transforms\n"
      ],
      "execution_count": 0,
      "outputs": []
    },
    {
      "cell_type": "code",
      "metadata": {
        "id": "MtH3rif8RKkN",
        "colab_type": "code",
        "colab": {
          "base_uri": "https://localhost:8080/",
          "height": 309
        },
        "outputId": "f840be0a-d614-44fc-eb52-77885febe9a3"
      },
      "source": [
        "# The output of torchvision datasets are PILImage images of range [0, 1]. \n",
        "# We transform them to Tensors for input into a CNN\n",
        "\n",
        "## Define a transform to read the data in as a tensor\n",
        "data_transform = transforms.ToTensor()\n",
        "\n",
        "data_path = 'CVND-udacity-facebook-scholarship/5-cnn-layers/data'\n",
        "\n",
        "# choose the training and test datasets\n",
        "train_data = FashionMNIST(root=data_path, train=True,\n",
        "                                   download=True, transform=data_transform)\n",
        "\n",
        "test_data = FashionMNIST(root=data_path, train=False,\n",
        "                                  download=True, transform=data_transform)\n",
        "\n",
        "\n",
        "# Print out some stats about the training and test data\n",
        "print('Train data, number of images: ', len(train_data))\n",
        "print('Test data, number of images: ', len(test_data))"
      ],
      "execution_count": 3,
      "outputs": [
        {
          "output_type": "stream",
          "text": [
            "\r0it [00:00, ?it/s]"
          ],
          "name": "stderr"
        },
        {
          "output_type": "stream",
          "text": [
            "Downloading http://fashion-mnist.s3-website.eu-central-1.amazonaws.com/train-images-idx3-ubyte.gz to CVND-udacity-facebook-scholarship/5-cnn-layers/data/FashionMNIST/raw/train-images-idx3-ubyte.gz\n"
          ],
          "name": "stdout"
        },
        {
          "output_type": "stream",
          "text": [
            "26427392it [00:01, 14789962.93it/s]                             \n"
          ],
          "name": "stderr"
        },
        {
          "output_type": "stream",
          "text": [
            "Extracting CVND-udacity-facebook-scholarship/5-cnn-layers/data/FashionMNIST/raw/train-images-idx3-ubyte.gz to CVND-udacity-facebook-scholarship/5-cnn-layers/data/FashionMNIST/raw\n"
          ],
          "name": "stdout"
        },
        {
          "output_type": "stream",
          "text": [
            "\r0it [00:00, ?it/s]"
          ],
          "name": "stderr"
        },
        {
          "output_type": "stream",
          "text": [
            "Downloading http://fashion-mnist.s3-website.eu-central-1.amazonaws.com/train-labels-idx1-ubyte.gz to CVND-udacity-facebook-scholarship/5-cnn-layers/data/FashionMNIST/raw/train-labels-idx1-ubyte.gz\n"
          ],
          "name": "stdout"
        },
        {
          "output_type": "stream",
          "text": [
            "32768it [00:00, 106962.21it/s]           \n",
            "0it [00:00, ?it/s]"
          ],
          "name": "stderr"
        },
        {
          "output_type": "stream",
          "text": [
            "Extracting CVND-udacity-facebook-scholarship/5-cnn-layers/data/FashionMNIST/raw/train-labels-idx1-ubyte.gz to CVND-udacity-facebook-scholarship/5-cnn-layers/data/FashionMNIST/raw\n",
            "Downloading http://fashion-mnist.s3-website.eu-central-1.amazonaws.com/t10k-images-idx3-ubyte.gz to CVND-udacity-facebook-scholarship/5-cnn-layers/data/FashionMNIST/raw/t10k-images-idx3-ubyte.gz\n"
          ],
          "name": "stdout"
        },
        {
          "output_type": "stream",
          "text": [
            "4423680it [00:01, 4314049.98it/s]                             \n",
            "0it [00:00, ?it/s]"
          ],
          "name": "stderr"
        },
        {
          "output_type": "stream",
          "text": [
            "Extracting CVND-udacity-facebook-scholarship/5-cnn-layers/data/FashionMNIST/raw/t10k-images-idx3-ubyte.gz to CVND-udacity-facebook-scholarship/5-cnn-layers/data/FashionMNIST/raw\n",
            "Downloading http://fashion-mnist.s3-website.eu-central-1.amazonaws.com/t10k-labels-idx1-ubyte.gz to CVND-udacity-facebook-scholarship/5-cnn-layers/data/FashionMNIST/raw/t10k-labels-idx1-ubyte.gz\n"
          ],
          "name": "stdout"
        },
        {
          "output_type": "stream",
          "text": [
            "8192it [00:00, 31375.15it/s]            \n"
          ],
          "name": "stderr"
        },
        {
          "output_type": "stream",
          "text": [
            "Extracting CVND-udacity-facebook-scholarship/5-cnn-layers/data/FashionMNIST/raw/t10k-labels-idx1-ubyte.gz to CVND-udacity-facebook-scholarship/5-cnn-layers/data/FashionMNIST/raw\n",
            "Processing...\n",
            "Done!\n",
            "Train data, number of images:  60000\n",
            "Test data, number of images:  10000\n"
          ],
          "name": "stdout"
        }
      ]
    },
    {
      "cell_type": "code",
      "metadata": {
        "id": "Rq0Q5J74RXAW",
        "colab_type": "code",
        "colab": {}
      },
      "source": [
        "# prepare data loaders, set the batch_size\n",
        "## TODO: you can try changing the batch_size to be larger or smaller\n",
        "## when you get to training your network, see how batch_size affects the loss\n",
        "batch_size = 20\n",
        "\n",
        "train_loader = DataLoader(train_data, batch_size=batch_size, shuffle=True)\n",
        "test_loader = DataLoader(test_data, batch_size=batch_size, shuffle=True)\n",
        "\n",
        "# specify the image classes\n",
        "classes = ['T-shirt/top', 'Trouser', 'Pullover', 'Dress', 'Coat', \n",
        "           'Sandal', 'Shirt', 'Sneaker', 'Bag', 'Ankle boot']"
      ],
      "execution_count": 0,
      "outputs": []
    },
    {
      "cell_type": "markdown",
      "metadata": {
        "id": "Ao9gIEsdRs4x",
        "colab_type": "text"
      },
      "source": [
        "### Visualize some training data\n",
        "\n",
        "This cell iterates over the training dataset, loading a random batch of image/label data, using `dataiter.next()`. It then plots the batch of images and labels in a `2 x batch_size/2` grid."
      ]
    },
    {
      "cell_type": "code",
      "metadata": {
        "id": "1rY62bu5Rnkp",
        "colab_type": "code",
        "colab": {
          "base_uri": "https://localhost:8080/",
          "height": 268
        },
        "outputId": "e6c5e723-d005-4073-8897-764f98f1e995"
      },
      "source": [
        "# obtain one batch of training images\n",
        "dataiter = iter(train_loader)\n",
        "images, labels = dataiter.next()\n",
        "images = images.numpy()\n",
        "\n",
        "# plot the images in the batch, along with the corresponding labels\n",
        "fig = plt.figure(figsize=(25, 4))\n",
        "for idx in np.arange(batch_size):\n",
        "    ax = fig.add_subplot(2, batch_size/2, idx+1, xticks=[], yticks=[])\n",
        "    ax.imshow(np.squeeze(images[idx]), cmap='gray')\n",
        "    ax.set_title(classes[labels[idx]])"
      ],
      "execution_count": 5,
      "outputs": [
        {
          "output_type": "display_data",
          "data": {
            "image/png": "[encoded data removed]",
            "text/plain": [
              "<Figure size 1800x288 with 20 Axes>"
            ]
          },
          "metadata": {
            "tags": []
          }
        }
      ]
    },
    {
      "cell_type": "markdown",
      "metadata": {
        "id": "azWjN9n4R5EB",
        "colab_type": "text"
      },
      "source": [
        "### Define the network architecture\n",
        "\n",
        "The various layers that make up any neural network are documented, [here](http://pytorch.org/docs/master/nn.html). For a convolutional neural network, we'll use a simple series of layers:\n",
        "* Convolutional layers\n",
        "* Maxpooling layers\n",
        "* Fully-connected (linear) layers\n",
        "\n",
        "You are also encouraged to look at adding [dropout layers](http://pytorch.org/docs/stable/nn.html#dropout) to avoid overfitting this data.\n",
        "\n",
        "---\n",
        "\n",
        "To define a neural network in PyTorch, you define the layers of a model in the function `__init__` and define the feedforward behavior of a network that employs those initialized layers in the function `forward`, which takes in an input image tensor, `x`. The structure of this Net class is shown below and left for you to fill in.\n",
        "\n",
        "Note: During training, PyTorch will be able to perform backpropagation by keeping track of the network's feedforward behavior and using autograd to calculate the update to the weights in the network.\n",
        "\n",
        "#### Define the Layers in ` __init__`\n",
        "As a reminder, a conv/pool layer may be defined like this (in `__init__`):\n",
        "```\n",
        "# 1 input image channel (for grayscale images), 32 output channels/feature maps, 3x3 square convolution kernel\n",
        "self.conv1 = nn.Conv2d(1, 32, 3)\n",
        "\n",
        "# maxpool that uses a square window of kernel_size=2, stride=2\n",
        "self.pool = nn.MaxPool2d(2, 2)      \n",
        "```\n",
        "\n",
        "#### Refer to Layers in `forward`\n",
        "Then referred to in the `forward` function like this, in which the conv1 layer has a ReLu activation applied to it before maxpooling is applied:\n",
        "```\n",
        "x = self.pool(F.relu(self.conv1(x)))\n",
        "```\n",
        "\n",
        "You must place any layers with trainable weights, such as convolutional layers, in the `__init__` function and refer to them in the `forward` functio; any layers or functions that always behave in the same way, such as a pre-defined activation function, may appear in either the `__init__` or the `forward` function. In practice, you'll often see conv/pool layers defined in `__init__` and activations defined in `forward`.\n",
        "\n",
        "#### Convolutional layer\n",
        "The first convolution layer has been defined for you, it takes in a 1 channel (grayscale) image and outputs 10 feature maps as output, after convolving the image with 3x3 filters.\n",
        "\n",
        "#### Flattening\n",
        "\n",
        "Recall that to move from the output of a convoluttional/pooling layer to a linear layer, you must first flatten your extracted features into a vector. If you've used the deep learning library, Keras, you may have seen this done by `Flatten()`, and in PyTorch you can flatten an input `x` with `x = x.view(x.size(0), -1)`.\n",
        "\n",
        "### TODO: Define the rest of the layers\n",
        "\n",
        "It will be up to you to define the other layers in this network; we have some recommendations, but you may change the architecture and parameters as you see fit.\n",
        "\n",
        "Recommendations/tips:\n",
        "* Use at least two convolutional layers\n",
        "* Your output must be a linear layer with 10 outputs (for the 10 classes of clothing)\n",
        "* Use a dropout layer to avoid overfitting"
      ]
    },
    {
      "cell_type": "code",
      "metadata": {
        "id": "cpszkkmYRzZl",
        "colab_type": "code",
        "colab": {
          "base_uri": "https://localhost:8080/",
          "height": 119
        },
        "outputId": "e6df7c7b-abb5-4337-c255-8d62e90286c2"
      },
      "source": [
        "import torch.nn as nn\n",
        "import torch.nn.functional as F\n",
        "\n",
        "class Net(nn.Module):\n",
        "\n",
        "    def __init__(self):\n",
        "        super(Net, self).__init__()\n",
        "        \n",
        "        # 1 input image channel (grayscale), 10 output channels/feature maps\n",
        "        # 3x3 square convolution kernel\n",
        "        ## output size = (W-F)/S +1 = (28-3)/1 +1 = 26\n",
        "        # the output Tensor for one image, will have the dimensions: (10, 26, 26)\n",
        "        # after one pool layer, this becomes (10, 13, 13)\n",
        "        self.conv1 = nn.Conv2d(1, 10, 3)\n",
        "        \n",
        "        # maxpool layer\n",
        "        # pool with kernel_size=2, stride=2\n",
        "        self.pool = nn.MaxPool2d(2, 2)\n",
        "        \n",
        "        # second conv layer: 10 inputs, 20 outputs, 3x3 conv\n",
        "        ## output size = (W-F)/S +1 = (13-3)/1 +1 = 11\n",
        "        # the output tensor will have dimensions: (20, 11, 11)\n",
        "        # after another pool layer this becomes (20, 5, 5); 5.5 is rounded down\n",
        "        self.conv2 = nn.Conv2d(10, 20, 3)\n",
        "        \n",
        "        # 20 outputs * the 5*5 filtered/pooled map size\n",
        "        # 10 output channels (for the 10 classes)\n",
        "        self.fc1 = nn.Linear(20*5*5, 10)\n",
        "        \n",
        "\n",
        "    # define the feedforward behavior\n",
        "    def forward(self, x):\n",
        "        # two conv/relu + pool layers\n",
        "        x = self.pool(F.relu(self.conv1(x)))\n",
        "        x = self.pool(F.relu(self.conv2(x)))\n",
        "\n",
        "        # prep for linear layer\n",
        "        # flatten the inputs into a vector\n",
        "        x = x.view(x.size(0), -1)\n",
        "        \n",
        "        # one linear layer\n",
        "        x = F.relu(self.fc1(x))\n",
        "        # a softmax layer to convert the 10 outputs into a distribution of class scores\n",
        "        x = F.log_softmax(x, dim=1)\n",
        "        \n",
        "        # final output\n",
        "        return x\n",
        "\n",
        "# instantiate and print your Net\n",
        "net = Net()\n",
        "print(net)"
      ],
      "execution_count": 8,
      "outputs": [
        {
          "output_type": "stream",
          "text": [
            "Net(\n",
            "  (conv1): Conv2d(1, 10, kernel_size=(3, 3), stride=(1, 1))\n",
            "  (pool): MaxPool2d(kernel_size=2, stride=2, padding=0, dilation=1, ceil_mode=False)\n",
            "  (conv2): Conv2d(10, 20, kernel_size=(3, 3), stride=(1, 1))\n",
            "  (fc1): Linear(in_features=500, out_features=10, bias=True)\n",
            ")\n"
          ],
          "name": "stdout"
        }
      ]
    },
    {
      "cell_type": "markdown",
      "metadata": {
        "id": "KR9yTIijSaFS",
        "colab_type": "text"
      },
      "source": [
        "### TODO: Specify the loss function and optimizer\n",
        "\n",
        "Learn more about [loss functions](http://pytorch.org/docs/master/nn.html#loss-functions) and [optimizers](http://pytorch.org/docs/master/optim.html) in the online documentation.\n",
        "\n",
        "Note that for a classification problem like this, one typically uses cross entropy loss, which can be defined in code like: `criterion = nn.CrossEntropyLoss()`. PyTorch also includes some standard stochastic optimizers like stochastic gradient descent and Adam. You're encouraged to try different optimizers and see how your model responds to these choices as it trains.\n"
      ]
    },
    {
      "cell_type": "code",
      "metadata": {
        "id": "JDYg4I0uSOn-",
        "colab_type": "code",
        "colab": {}
      },
      "source": [
        "import torch.optim as optim\n",
        "\n",
        "## TODO: specify loss function \n",
        "# cross entropy loss combines softmax and nn.NLLLoss() in one single class.\n",
        "criterion = nn.NLLLoss()\n",
        "\n",
        "## TODO: specify optimizer \n",
        "# stochastic gradient descent with a small learning rate\n",
        "optimizer = optim.SGD(net.parameters(), lr=0.001)"
      ],
      "execution_count": 0,
      "outputs": []
    },
    {
      "cell_type": "markdown",
      "metadata": {
        "id": "6cpPEmA8SlPg",
        "colab_type": "text"
      },
      "source": [
        "### A note on accuracy\n",
        "\n",
        "It's interesting to look at the accuracy of your network **before and after** training. This way you can really see that your network has learned something. In the next cell, let's see what the accuracy of an untrained network is (we expect it to be around 10% which is the same accuracy as just guessing for all 10 classes).\n",
        "\n",
        "#### Variable\n",
        "\n",
        "Before an input tensor can be processed by a model, it must be wrapped in a Variable wrapper; this wrapper gives PyTorch the ability to automatically track how this input changes as it passes through the network and automatically calculate the gradients needed for backpropagation.\n"
      ]
    },
    {
      "cell_type": "code",
      "metadata": {
        "id": "54DfzzXQScpv",
        "colab_type": "code",
        "colab": {
          "base_uri": "https://localhost:8080/",
          "height": 34
        },
        "outputId": "24d6d322-412b-487a-aaf1-178058f3bfe6"
      },
      "source": [
        "# Calculate accuracy before training\n",
        "correct = 0\n",
        "total = 0\n",
        "\n",
        "# Iterate through test dataset\n",
        "for images, labels in test_loader:\n",
        "\n",
        "    # forward pass to get outputs\n",
        "    # the outputs are a series of class scores\n",
        "    outputs = net(images)\n",
        "\n",
        "    # get the predicted class from the maximum value in the output-list of class scores\n",
        "    _, predicted = torch.max(outputs.data, 1)\n",
        "\n",
        "    # count up total number of correct labels\n",
        "    # for which the predicted and true labels are equal\n",
        "    total += labels.size(0)\n",
        "    correct += (predicted == labels).sum()\n",
        "\n",
        "# calculate the accuracy\n",
        "# to convert `correct` from a Tensor into a scalar, use .item()\n",
        "accuracy = 100.0 * correct.item() / total\n",
        "\n",
        "# print it out!\n",
        "print('Accuracy before training: ', accuracy)"
      ],
      "execution_count": 10,
      "outputs": [
        {
          "output_type": "stream",
          "text": [
            "Accuracy before training:  10.0\n"
          ],
          "name": "stdout"
        }
      ]
    },
    {
      "cell_type": "markdown",
      "metadata": {
        "id": "2vNb7taFTWcf",
        "colab_type": "text"
      },
      "source": [
        "### Train the Network\n",
        "\n",
        "Below, we've defined a `train` function that takes in a number of epochs to train for. \n",
        "* The number of epochs is how many times a network will cycle through the entire training dataset. \n",
        "* Inside the epoch loop, we loop over the training dataset in batches; recording the loss every 1000 batches.\n",
        "\n",
        "Here are the steps that this training function performs as it iterates over the training dataset:\n",
        "\n",
        "1. Zero's the gradients to prepare for a forward pass\n",
        "2. Passes the input through the network (forward pass)\n",
        "3. Computes the loss (how far is the predicted classes are from the correct labels)\n",
        "4. Propagates gradients back into the network’s parameters (backward pass)\n",
        "5. Updates the weights (parameter update)\n",
        "6. Prints out the calculated loss\n",
        "\n"
      ]
    },
    {
      "cell_type": "code",
      "metadata": {
        "id": "SJqmfpN4TNLw",
        "colab_type": "code",
        "colab": {}
      },
      "source": [
        "def train(n_epochs):\n",
        "    \n",
        "    loss_over_time = [] # to track the loss as the network trains\n",
        "    \n",
        "    for epoch in range(n_epochs):  # loop over the dataset multiple times\n",
        "        \n",
        "        running_loss = 0.0\n",
        "        \n",
        "        for batch_i, data in enumerate(train_loader):\n",
        "            # get the input images and their corresponding labels\n",
        "            inputs, labels = data\n",
        "\n",
        "            # zero the parameter (weight) gradients\n",
        "            optimizer.zero_grad()\n",
        "\n",
        "            # forward pass to get outputs\n",
        "            outputs = net(inputs)\n",
        "\n",
        "            # calculate the loss\n",
        "            loss = criterion(outputs, labels)\n",
        "\n",
        "            # backward pass to calculate the parameter gradients\n",
        "            loss.backward()\n",
        "\n",
        "            # update the parameters\n",
        "            optimizer.step()\n",
        "\n",
        "            # print loss statistics\n",
        "            # to convert loss into a scalar and add it to running_loss, we use .item()\n",
        "            running_loss += loss.item()\n",
        "            \n",
        "            if batch_i % 1000 == 999:    # print every 1000 batches\n",
        "                avg_loss = running_loss/1000\n",
        "                # record and print the avg loss over the 1000 batches\n",
        "                loss_over_time.append(avg_loss)\n",
        "                print('Epoch: {}, Batch: {}, Avg. Loss: {}'.format(epoch + 1, batch_i+1, avg_loss))\n",
        "                running_loss = 0.0\n",
        "\n",
        "    print('Finished Training')\n",
        "    return loss_over_time\n"
      ],
      "execution_count": 0,
      "outputs": []
    },
    {
      "cell_type": "code",
      "metadata": {
        "id": "IhhYlhK_TeBQ",
        "colab_type": "code",
        "colab": {
          "base_uri": "https://localhost:8080/",
          "height": 1000
        },
        "outputId": "f8b93896-07b3-4074-f680-7fad0c12f84e"
      },
      "source": [
        "# define the number of epochs to train for\n",
        "n_epochs = 30 # start small to see if your model works, initially\n",
        "\n",
        "# call train and record the loss over time\n",
        "training_loss = train(n_epochs)"
      ],
      "execution_count": 12,
      "outputs": [
        {
          "output_type": "stream",
          "text": [
            "Epoch: 1, Batch: 1000, Avg. Loss: 2.293929705619812\n",
            "Epoch: 1, Batch: 2000, Avg. Loss: 2.2777923109531404\n",
            "Epoch: 1, Batch: 3000, Avg. Loss: 2.244853621721268\n",
            "Epoch: 2, Batch: 1000, Avg. Loss: 2.1551905711889265\n",
            "Epoch: 2, Batch: 2000, Avg. Loss: 1.9229805892705918\n",
            "Epoch: 2, Batch: 3000, Avg. Loss: 1.66990814524889\n",
            "Epoch: 3, Batch: 1000, Avg. Loss: 1.4401962207555772\n",
            "Epoch: 3, Batch: 2000, Avg. Loss: 1.2480313952565194\n",
            "Epoch: 3, Batch: 3000, Avg. Loss: 1.1579990568757057\n",
            "Epoch: 4, Batch: 1000, Avg. Loss: 1.1239538039565087\n",
            "Epoch: 4, Batch: 2000, Avg. Loss: 1.098157470971346\n",
            "Epoch: 4, Batch: 3000, Avg. Loss: 1.079559398919344\n",
            "Epoch: 5, Batch: 1000, Avg. Loss: 1.013873277068138\n",
            "Epoch: 5, Batch: 2000, Avg. Loss: 0.9186519476771354\n",
            "Epoch: 5, Batch: 3000, Avg. Loss: 0.8891420344412326\n",
            "Epoch: 6, Batch: 1000, Avg. Loss: 0.8740351096987724\n",
            "Epoch: 6, Batch: 2000, Avg. Loss: 0.8676843701899052\n",
            "Epoch: 6, Batch: 3000, Avg. Loss: 0.8555309909880161\n",
            "Epoch: 7, Batch: 1000, Avg. Loss: 0.8401662453413009\n",
            "Epoch: 7, Batch: 2000, Avg. Loss: 0.8249303929507732\n",
            "Epoch: 7, Batch: 3000, Avg. Loss: 0.8268265765607357\n",
            "Epoch: 8, Batch: 1000, Avg. Loss: 0.8089122014045715\n",
            "Epoch: 8, Batch: 2000, Avg. Loss: 0.806269770860672\n",
            "Epoch: 8, Batch: 3000, Avg. Loss: 0.7897177523374558\n",
            "Epoch: 9, Batch: 1000, Avg. Loss: 0.7816518064886332\n",
            "Epoch: 9, Batch: 2000, Avg. Loss: 0.77306210693717\n",
            "Epoch: 9, Batch: 3000, Avg. Loss: 0.7752911069095135\n",
            "Epoch: 10, Batch: 1000, Avg. Loss: 0.7555029591619968\n",
            "Epoch: 10, Batch: 2000, Avg. Loss: 0.7465970553010702\n",
            "Epoch: 10, Batch: 3000, Avg. Loss: 0.7678979376256466\n",
            "Epoch: 11, Batch: 1000, Avg. Loss: 0.7516675573140382\n",
            "Epoch: 11, Batch: 2000, Avg. Loss: 0.7458279453217983\n",
            "Epoch: 11, Batch: 3000, Avg. Loss: 0.7220564630329609\n",
            "Epoch: 12, Batch: 1000, Avg. Loss: 0.7237435778379441\n",
            "Epoch: 12, Batch: 2000, Avg. Loss: 0.7291043139249086\n",
            "Epoch: 12, Batch: 3000, Avg. Loss: 0.7260064729303122\n",
            "Epoch: 13, Batch: 1000, Avg. Loss: 0.7190220623612403\n",
            "Epoch: 13, Batch: 2000, Avg. Loss: 0.705999201014638\n",
            "Epoch: 13, Batch: 3000, Avg. Loss: 0.7149975405931472\n",
            "Epoch: 14, Batch: 1000, Avg. Loss: 0.7123640510737896\n",
            "Epoch: 14, Batch: 2000, Avg. Loss: 0.69987962859869\n",
            "Epoch: 14, Batch: 3000, Avg. Loss: 0.698700471624732\n",
            "Epoch: 15, Batch: 1000, Avg. Loss: 0.6908184936493635\n",
            "Epoch: 15, Batch: 2000, Avg. Loss: 0.6944381338506938\n",
            "Epoch: 15, Batch: 3000, Avg. Loss: 0.6973356203883886\n",
            "Epoch: 16, Batch: 1000, Avg. Loss: 0.6934277889057994\n",
            "Epoch: 16, Batch: 2000, Avg. Loss: 0.6928456602692604\n",
            "Epoch: 16, Batch: 3000, Avg. Loss: 0.6733605381473899\n",
            "Epoch: 17, Batch: 1000, Avg. Loss: 0.6842833982408046\n",
            "Epoch: 17, Batch: 2000, Avg. Loss: 0.6816857377588749\n",
            "Epoch: 17, Batch: 3000, Avg. Loss: 0.6742306299060583\n",
            "Epoch: 18, Batch: 1000, Avg. Loss: 0.6754526109844446\n",
            "Epoch: 18, Batch: 2000, Avg. Loss: 0.6775945664346218\n",
            "Epoch: 18, Batch: 3000, Avg. Loss: 0.6697233069837093\n",
            "Epoch: 19, Batch: 1000, Avg. Loss: 0.6736750383451581\n",
            "Epoch: 19, Batch: 2000, Avg. Loss: 0.6616348731592298\n",
            "Epoch: 19, Batch: 3000, Avg. Loss: 0.6699763637930155\n",
            "Epoch: 20, Batch: 1000, Avg. Loss: 0.6626858297437429\n",
            "Epoch: 20, Batch: 2000, Avg. Loss: 0.6668142413645983\n",
            "Epoch: 20, Batch: 3000, Avg. Loss: 0.6623531258925796\n",
            "Epoch: 21, Batch: 1000, Avg. Loss: 0.6568856221213937\n",
            "Epoch: 21, Batch: 2000, Avg. Loss: 0.6613785154670477\n",
            "Epoch: 21, Batch: 3000, Avg. Loss: 0.6590878844410181\n",
            "Epoch: 22, Batch: 1000, Avg. Loss: 0.6578119948655367\n",
            "Epoch: 22, Batch: 2000, Avg. Loss: 0.6421100581586361\n",
            "Epoch: 22, Batch: 3000, Avg. Loss: 0.6626889391094446\n",
            "Epoch: 23, Batch: 1000, Avg. Loss: 0.6534402012825012\n",
            "Epoch: 23, Batch: 2000, Avg. Loss: 0.6434838163033128\n",
            "Epoch: 23, Batch: 3000, Avg. Loss: 0.6562469732761383\n",
            "Epoch: 24, Batch: 1000, Avg. Loss: 0.6479868158325552\n",
            "Epoch: 24, Batch: 2000, Avg. Loss: 0.643373480707407\n",
            "Epoch: 24, Batch: 3000, Avg. Loss: 0.6498052585870028\n",
            "Epoch: 25, Batch: 1000, Avg. Loss: 0.6448561137020588\n",
            "Epoch: 25, Batch: 2000, Avg. Loss: 0.6409975449442864\n",
            "Epoch: 25, Batch: 3000, Avg. Loss: 0.6460794559419155\n",
            "Epoch: 26, Batch: 1000, Avg. Loss: 0.6496275392919779\n",
            "Epoch: 26, Batch: 2000, Avg. Loss: 0.6304988106191158\n",
            "Epoch: 26, Batch: 3000, Avg. Loss: 0.6420361678600311\n",
            "Epoch: 27, Batch: 1000, Avg. Loss: 0.6493575286120177\n",
            "Epoch: 27, Batch: 2000, Avg. Loss: 0.6352592130750417\n",
            "Epoch: 27, Batch: 3000, Avg. Loss: 0.6270836017280818\n",
            "Epoch: 28, Batch: 1000, Avg. Loss: 0.6337647339254617\n",
            "Epoch: 28, Batch: 2000, Avg. Loss: 0.6344020857438445\n",
            "Epoch: 28, Batch: 3000, Avg. Loss: 0.6338248303309083\n",
            "Epoch: 29, Batch: 1000, Avg. Loss: 0.6366207227706909\n",
            "Epoch: 29, Batch: 2000, Avg. Loss: 0.6283041077405215\n",
            "Epoch: 29, Batch: 3000, Avg. Loss: 0.6297833077460527\n",
            "Epoch: 30, Batch: 1000, Avg. Loss: 0.6333255166262388\n",
            "Epoch: 30, Batch: 2000, Avg. Loss: 0.6247553199678659\n",
            "Epoch: 30, Batch: 3000, Avg. Loss: 0.6286279670968652\n",
            "Finished Training\n"
          ],
          "name": "stdout"
        }
      ]
    },
    {
      "cell_type": "markdown",
      "metadata": {
        "id": "YykPo9kTTmPp",
        "colab_type": "text"
      },
      "source": [
        "## Visualizing the loss\n",
        "\n",
        "A good indication of how much your network is learning as it trains is the loss over time. In this example, we printed and recorded the average loss for each 1000 batches and for each epoch. Let's plot it and see how the loss decreases (or doesn't) over time.\n",
        "\n",
        "In this case, you can see that it takes a little bit for a big initial loss decrease, and the loss is flattening out over time."
      ]
    },
    {
      "cell_type": "code",
      "metadata": {
        "id": "vwXor5HnTjBA",
        "colab_type": "code",
        "colab": {
          "base_uri": "https://localhost:8080/",
          "height": 283
        },
        "outputId": "8d1f3cef-0d48-4e9c-b125-9d09bd7ea1f8"
      },
      "source": [
        "# visualize the loss as the network trained\n",
        "plt.plot(training_loss)\n",
        "plt.xlabel('1000\\'s of batches')\n",
        "plt.ylabel('loss')\n",
        "plt.ylim(0, 2.5) # consistent scale\n",
        "plt.show()"
      ],
      "execution_count": 13,
      "outputs": [
        {
          "output_type": "display_data",
          "data": {
            "image/png": "[encoded data removed]",
            "text/plain": [
              "<Figure size 432x288 with 1 Axes>"
            ]
          },
          "metadata": {
            "tags": []
          }
        }
      ]
    },
    {
      "cell_type": "markdown",
      "metadata": {
        "id": "G3tnXcyEWzO2",
        "colab_type": "text"
      },
      "source": [
        "### Test the Trained Network\n",
        "\n",
        "Once you are satisfied with how the loss of your model has decreased, there is one last step: test!\n",
        "\n",
        "You must test your trained model on a previously unseen dataset to see if it generalizes well and can accurately classify this new dataset. For FashionMNIST, which contains many pre-processed training images, a good model should reach **greater than 85% accuracy** on this test dataset. If you are not reaching this value, try training for a larger number of epochs, tweaking your hyperparameters, or adding/subtracting layers from your CNN."
      ]
    },
    {
      "cell_type": "code",
      "metadata": {
        "id": "YNKaZjJNWwuP",
        "colab_type": "code",
        "colab": {
          "base_uri": "https://localhost:8080/",
          "height": 255
        },
        "outputId": "c983e0d0-de01-4831-b9d5-14d7ad14a025"
      },
      "source": [
        "# initialize tensor and lists to monitor test loss and accuracy\n",
        "test_loss = torch.zeros(1)\n",
        "class_correct = list(0. for i in range(10))\n",
        "class_total = list(0. for i in range(10))\n",
        "\n",
        "# set the module to evaluation mode\n",
        "net.eval()\n",
        "\n",
        "for batch_i, data in enumerate(test_loader):\n",
        "    \n",
        "    # get the input images and their corresponding labels\n",
        "    inputs, labels = data\n",
        "    \n",
        "    # forward pass to get outputs\n",
        "    outputs = net(inputs)\n",
        "\n",
        "    # calculate the loss\n",
        "    loss = criterion(outputs, labels)\n",
        "            \n",
        "    # update average test loss \n",
        "    test_loss = test_loss + ((torch.ones(1) / (batch_i + 1)) * (loss.data - test_loss))\n",
        "    \n",
        "    # get the predicted class from the maximum value in the output-list of class scores\n",
        "    _, predicted = torch.max(outputs.data, 1)\n",
        "    \n",
        "    # compare predictions to true label\n",
        "    # this creates a `correct` Tensor that holds the number of correctly classified images in a batch\n",
        "    correct = np.squeeze(predicted.eq(labels.data.view_as(predicted)))\n",
        "    \n",
        "    # calculate test accuracy for *each* object class\n",
        "    # we get the scalar value of correct items for a class, by calling `correct[i].item()`\n",
        "    for i in range(batch_size):\n",
        "        label = labels.data[i]\n",
        "        class_correct[label] += correct[i].item()\n",
        "        class_total[label] += 1\n",
        "\n",
        "print('Test Loss: {:.6f}\\n'.format(test_loss.numpy()[0]))\n",
        "\n",
        "for i in range(10):\n",
        "    if class_total[i] > 0:\n",
        "        print('Test Accuracy of %5s: %2d%% (%2d/%2d)' % (\n",
        "            classes[i], 100 * class_correct[i] / class_total[i],\n",
        "            np.sum(class_correct[i]), np.sum(class_total[i])))\n",
        "    else:\n",
        "        print('Test Accuracy of %5s: N/A (no training examples)' % (classes[i]))\n",
        "\n",
        "        \n",
        "print('\\nTest Accuracy (Overall): %2d%% (%2d/%2d)' % (\n",
        "    100. * np.sum(class_correct) / np.sum(class_total),\n",
        "    np.sum(class_correct), np.sum(class_total)))"
      ],
      "execution_count": 14,
      "outputs": [
        {
          "output_type": "stream",
          "text": [
            "Test Loss: 0.648074\n",
            "\n",
            "Test Accuracy of T-shirt/top: 79% (794/1000)\n",
            "Test Accuracy of Trouser: 96% (962/1000)\n",
            "Test Accuracy of Pullover: 75% (756/1000)\n",
            "Test Accuracy of Dress: 84% (843/1000)\n",
            "Test Accuracy of  Coat: 75% (753/1000)\n",
            "Test Accuracy of Sandal: 94% (944/1000)\n",
            "Test Accuracy of Shirt: 65% (659/1000)\n",
            "Test Accuracy of Sneaker: 93% (935/1000)\n",
            "Test Accuracy of   Bag:  0% ( 0/1000)\n",
            "Test Accuracy of Ankle boot: 95% (950/1000)\n",
            "\n",
            "Test Accuracy (Overall): 75% (7596/10000)\n"
          ],
          "name": "stdout"
        }
      ]
    },
    {
      "cell_type": "markdown",
      "metadata": {
        "id": "vMRf5qU5W6_l",
        "colab_type": "text"
      },
      "source": [
        "## Visualize the test results"
      ]
    },
    {
      "cell_type": "code",
      "metadata": {
        "id": "cnPGv3xzW2xX",
        "colab_type": "code",
        "colab": {
          "base_uri": "https://localhost:8080/",
          "height": 268
        },
        "outputId": "cbbf1f97-9c5b-44d4-df5c-bcaeb66beff4"
      },
      "source": [
        "# obtain one batch of test images\n",
        "dataiter = iter(test_loader)\n",
        "images, labels = dataiter.next()\n",
        "# get predictions\n",
        "preds = np.squeeze(net(images).data.max(1, keepdim=True)[1].numpy())\n",
        "images = images.numpy()\n",
        "\n",
        "# plot the images in the batch, along with predicted and true labels\n",
        "fig = plt.figure(figsize=(25, 4))\n",
        "for idx in np.arange(batch_size):\n",
        "    ax = fig.add_subplot(2, batch_size/2, idx+1, xticks=[], yticks=[])\n",
        "    ax.imshow(np.squeeze(images[idx]), cmap='gray')\n",
        "    ax.set_title(\"{} ({})\".format(classes[preds[idx]], classes[labels[idx]]),\n",
        "                 color=(\"green\" if preds[idx]==labels[idx] else \"red\"))"
      ],
      "execution_count": 15,
      "outputs": [
        {
          "output_type": "display_data",
          "data": {
            "image/png": "[encoded data removed]",
            "text/plain": [
              "<Figure size 1800x288 with 20 Axes>"
            ]
          },
          "metadata": {
            "tags": []
          }
        }
      ]
    },
    {
      "cell_type": "markdown",
      "metadata": {
        "id": "Pe6OX39GXDBC",
        "colab_type": "text"
      },
      "source": [
        "### Question: What are some weaknesses of your model? (And how might you improve these in future iterations.)\n",
        "**Answer**: This model performs well on everything but shirts and pullovers (0% accuracy); it looks like this incorrectly classifies most of those as a coat which has a similar overall shape. Because it performs well on everything but these two classes, I suspect this model is overfitting certain classes at the cost of generalization. I suspect that this accuracy could be improved by adding some dropout layers to aoid overfitting."
      ]
    },
    {
      "cell_type": "code",
      "metadata": {
        "id": "kLB-JA08W9K-",
        "colab_type": "code",
        "colab": {}
      },
      "source": [
        "# Saving the model\n",
        "model_dir = './'\n",
        "model_name = 'fashion_net_simple.pt'\n",
        "\n",
        "# after training, save your model parameters in the dir 'saved_models'\n",
        "# when you're ready, un-comment the line below\n",
        "torch.save(net.state_dict(), model_dir+model_name)"
      ],
      "execution_count": 0,
      "outputs": []
    },
    {
      "cell_type": "code",
      "metadata": {
        "id": "w1rqtlc9XM3v",
        "colab_type": "code",
        "colab": {}
      },
      "source": [
        ""
      ],
      "execution_count": 0,
      "outputs": []
    }
  ]
}