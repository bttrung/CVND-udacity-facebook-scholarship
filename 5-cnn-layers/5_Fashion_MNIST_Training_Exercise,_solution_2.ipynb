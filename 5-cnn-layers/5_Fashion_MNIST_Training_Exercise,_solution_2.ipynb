{
  "nbformat": 4,
  "nbformat_minor": 0,
  "metadata": {
    "colab": {
      "name": "5_Fashion MNIST Training Exercise, solution 2.ipynb",
      "provenance": [],
      "collapsed_sections": [],
      "include_colab_link": true
    },
    "kernelspec": {
      "name": "python3",
      "display_name": "Python 3"
    }
  },
  "cells": [
    {
      "cell_type": "markdown",
      "metadata": {
        "id": "view-in-github",
        "colab_type": "text"
      },
      "source": [
        "<a href=\"https://colab.research.google.com/github/bttrung/CVND-udacity-facebook-scholarship/blob/master/5-cnn-layers/5_Fashion_MNIST_Training_Exercise%2C_solution_2.ipynb\" target=\"_parent\"><img src=\"https://colab.research.google.com/assets/colab-badge.svg\" alt=\"Open In Colab\"/></a>"
      ]
    },
    {
      "cell_type": "code",
      "metadata": {
        "id": "VFI1_mZ1Zb7e",
        "colab_type": "code",
        "colab": {
          "base_uri": "https://localhost:8080/",
          "height": 221
        },
        "outputId": "bbca0336-9934-4930-b177-777b03c93715"
      },
      "source": [
        "import cv2\n",
        "import matplotlib.pyplot as plt\n",
        "import numpy as np\n",
        "%matplotlib inline\n",
        "\n",
        "!git clone -l -s https://github.com/bttrung/CVND-udacity-facebook-scholarship.git\n",
        "%cd cloned-repo\n",
        "!ls"
      ],
      "execution_count": 1,
      "outputs": [
        {
          "output_type": "stream",
          "text": [
            "Cloning into 'CVND-udacity-facebook-scholarship'...\n",
            "warning: --local is ignored\n",
            "remote: Enumerating objects: 28, done.\u001b[K\n",
            "remote: Counting objects: 100% (28/28), done.\u001b[K\n",
            "remote: Compressing objects: 100% (28/28), done.\u001b[K\n",
            "remote: Total 774 (delta 15), reused 0 (delta 0), pack-reused 746\u001b[K\n",
            "Receiving objects: 100% (774/774), 131.52 MiB | 30.42 MiB/s, done.\n",
            "Resolving deltas: 100% (144/144), done.\n",
            "Checking out files: 100% (506/506), done.\n",
            "[Errno 2] No such file or directory: 'cloned-repo'\n",
            "/content\n",
            "CVND-udacity-facebook-scholarship  sample_data\n"
          ],
          "name": "stdout"
        }
      ]
    },
    {
      "cell_type": "code",
      "metadata": {
        "id": "s9vWgbmQZfzh",
        "colab_type": "code",
        "colab": {}
      },
      "source": [
        "# our basic libraries\n",
        "import torch\n",
        "import torchvision\n",
        "\n",
        "# data loading and transforming\n",
        "from torchvision.datasets import FashionMNIST\n",
        "from torch.utils.data import DataLoader\n",
        "from torchvision import transforms"
      ],
      "execution_count": 0,
      "outputs": []
    },
    {
      "cell_type": "code",
      "metadata": {
        "id": "fNuk6tKHZkDo",
        "colab_type": "code",
        "colab": {
          "base_uri": "https://localhost:8080/",
          "height": 309
        },
        "outputId": "4db308cc-7b38-45ba-c76c-4cb099be70fc"
      },
      "source": [
        "# The output of torchvision datasets are PILImage images of range [0, 1]. \n",
        "# We transform them to Tensors for input into a CNN\n",
        "\n",
        "## Define a transform to read the data in as a tensor\n",
        "data_transform = transforms.ToTensor()\n",
        "\n",
        "data_path = 'CVND-udacity-facebook-scholarship/5-cnn-layers/data'\n",
        "\n",
        "# choose the training and test datasets\n",
        "train_data = FashionMNIST(root=data_path, train=True,\n",
        "                                   download=True, transform=data_transform)\n",
        "\n",
        "test_data = FashionMNIST(root=data_path, train=False,\n",
        "                                  download=True, transform=data_transform)\n",
        "\n",
        "\n",
        "# Print out some stats about the training and test data\n",
        "print('Train data, number of images: ', len(train_data))\n",
        "print('Test data, number of images: ', len(test_data))"
      ],
      "execution_count": 3,
      "outputs": [
        {
          "output_type": "stream",
          "text": [
            "  0%|          | 16384/26421880 [00:00<02:54, 151324.82it/s]"
          ],
          "name": "stderr"
        },
        {
          "output_type": "stream",
          "text": [
            "Downloading http://fashion-mnist.s3-website.eu-central-1.amazonaws.com/train-images-idx3-ubyte.gz to CVND-udacity-facebook-scholarship/5-cnn-layers/data/FashionMNIST/raw/train-images-idx3-ubyte.gz\n"
          ],
          "name": "stdout"
        },
        {
          "output_type": "stream",
          "text": [
            "26427392it [00:00, 77359361.59it/s]                            \n"
          ],
          "name": "stderr"
        },
        {
          "output_type": "stream",
          "text": [
            "Extracting CVND-udacity-facebook-scholarship/5-cnn-layers/data/FashionMNIST/raw/train-images-idx3-ubyte.gz to CVND-udacity-facebook-scholarship/5-cnn-layers/data/FashionMNIST/raw\n"
          ],
          "name": "stdout"
        },
        {
          "output_type": "stream",
          "text": [
            "32768it [00:00, 480993.05it/s]\n",
            "  5%|▍         | 212992/4422102 [00:00<00:02, 1885176.72it/s]"
          ],
          "name": "stderr"
        },
        {
          "output_type": "stream",
          "text": [
            "Downloading http://fashion-mnist.s3-website.eu-central-1.amazonaws.com/train-labels-idx1-ubyte.gz to CVND-udacity-facebook-scholarship/5-cnn-layers/data/FashionMNIST/raw/train-labels-idx1-ubyte.gz\n",
            "Extracting CVND-udacity-facebook-scholarship/5-cnn-layers/data/FashionMNIST/raw/train-labels-idx1-ubyte.gz to CVND-udacity-facebook-scholarship/5-cnn-layers/data/FashionMNIST/raw\n",
            "Downloading http://fashion-mnist.s3-website.eu-central-1.amazonaws.com/t10k-images-idx3-ubyte.gz to CVND-udacity-facebook-scholarship/5-cnn-layers/data/FashionMNIST/raw/t10k-images-idx3-ubyte.gz\n"
          ],
          "name": "stdout"
        },
        {
          "output_type": "stream",
          "text": [
            "4423680it [00:00, 22951374.93it/s]                           \n",
            "0it [00:00, ?it/s]"
          ],
          "name": "stderr"
        },
        {
          "output_type": "stream",
          "text": [
            "Extracting CVND-udacity-facebook-scholarship/5-cnn-layers/data/FashionMNIST/raw/t10k-images-idx3-ubyte.gz to CVND-udacity-facebook-scholarship/5-cnn-layers/data/FashionMNIST/raw\n",
            "Downloading http://fashion-mnist.s3-website.eu-central-1.amazonaws.com/t10k-labels-idx1-ubyte.gz to CVND-udacity-facebook-scholarship/5-cnn-layers/data/FashionMNIST/raw/t10k-labels-idx1-ubyte.gz\n"
          ],
          "name": "stdout"
        },
        {
          "output_type": "stream",
          "text": [
            "\r8192it [00:00, 125477.44it/s]\n"
          ],
          "name": "stderr"
        },
        {
          "output_type": "stream",
          "text": [
            "Extracting CVND-udacity-facebook-scholarship/5-cnn-layers/data/FashionMNIST/raw/t10k-labels-idx1-ubyte.gz to CVND-udacity-facebook-scholarship/5-cnn-layers/data/FashionMNIST/raw\n",
            "Processing...\n",
            "Done!\n",
            "Train data, number of images:  60000\n",
            "Test data, number of images:  10000\n"
          ],
          "name": "stdout"
        }
      ]
    },
    {
      "cell_type": "code",
      "metadata": {
        "id": "sr9UeQ7fZ5A_",
        "colab_type": "code",
        "colab": {}
      },
      "source": [
        "# prepare data loaders, set the batch_size\n",
        "## TODO: you can try changing the batch_size to be larger or smaller\n",
        "## when you get to training your network, see how batch_size affects the loss\n",
        "batch_size = 20\n",
        "\n",
        "train_loader = DataLoader(train_data, batch_size=batch_size, shuffle=True)\n",
        "test_loader = DataLoader(test_data, batch_size=batch_size, shuffle=True)\n",
        "\n",
        "# specify the image classes\n",
        "classes = ['T-shirt/top', 'Trouser', 'Pullover', 'Dress', 'Coat', \n",
        "           'Sandal', 'Shirt', 'Sneaker', 'Bag', 'Ankle boot']"
      ],
      "execution_count": 0,
      "outputs": []
    },
    {
      "cell_type": "code",
      "metadata": {
        "id": "2ZgdksNhZmjA",
        "colab_type": "code",
        "colab": {
          "base_uri": "https://localhost:8080/",
          "height": 268
        },
        "outputId": "e54c1d04-24ac-41cb-9aef-9212027aa21f"
      },
      "source": [
        "import numpy as np\n",
        "import matplotlib.pyplot as plt\n",
        "\n",
        "%matplotlib inline\n",
        "    \n",
        "# obtain one batch of training images\n",
        "dataiter = iter(train_loader)\n",
        "images, labels = dataiter.next()\n",
        "images = images.numpy()\n",
        "\n",
        "# plot the images in the batch, along with the corresponding labels\n",
        "fig = plt.figure(figsize=(25, 4))\n",
        "for idx in np.arange(batch_size):\n",
        "    ax = fig.add_subplot(2, batch_size/2, idx+1, xticks=[], yticks=[])\n",
        "    ax.imshow(np.squeeze(images[idx]), cmap='gray')\n",
        "    ax.set_title(classes[labels[idx]])"
      ],
      "execution_count": 7,
      "outputs": [
        {
          "output_type": "display_data",
          "data": {
            "image/png": "[encoded data removed]",
            "text/plain": [
              "<Figure size 1800x288 with 20 Axes>"
            ]
          },
          "metadata": {
            "tags": []
          }
        }
      ]
    },
    {
      "cell_type": "code",
      "metadata": {
        "id": "HRRaXTDIZpMn",
        "colab_type": "code",
        "colab": {}
      },
      "source": [
        ""
      ],
      "execution_count": 0,
      "outputs": []
    },
    {
      "cell_type": "markdown",
      "metadata": {
        "id": "hrvzyLGAZ80F",
        "colab_type": "text"
      },
      "source": [
        "## Addding Dropout layer"
      ]
    },
    {
      "cell_type": "code",
      "metadata": {
        "id": "iBGF--OhaAU_",
        "colab_type": "code",
        "colab": {
          "base_uri": "https://localhost:8080/",
          "height": 153
        },
        "outputId": "901972d3-53d9-478b-bc94-a69efbedb5d8"
      },
      "source": [
        "import torch.nn as nn\n",
        "import torch.nn.functional as F\n",
        "\n",
        "class Net(nn.Module):\n",
        "\n",
        "    def __init__(self):\n",
        "        super(Net, self).__init__()\n",
        "        \n",
        "        # 1 input image channel (grayscale), 10 output channels/feature maps\n",
        "        # 3x3 square convolution kernel\n",
        "        ## output size = (W-F)/S +1 = (28-3)/1 +1 = 26\n",
        "        # the output Tensor for one image, will have the dimensions: (10, 26, 26)\n",
        "        # after one pool layer, this becomes (10, 13, 13)\n",
        "        self.conv1 = nn.Conv2d(1, 10, 3)\n",
        "        \n",
        "        # maxpool layer\n",
        "        # pool with kernel_size=2, stride=2\n",
        "        self.pool = nn.MaxPool2d(2, 2)\n",
        "        \n",
        "        # second conv layer: 10 inputs, 20 outputs, 3x3 conv\n",
        "        ## output size = (W-F)/S +1 = (13-3)/1 +1 = 11\n",
        "        # the output tensor will have dimensions: (20, 11, 11)\n",
        "        # after another pool layer this becomes (20, 5, 5); 5.5 is rounded down\n",
        "        self.conv2 = nn.Conv2d(10, 20, 3)\n",
        "        \n",
        "        # 20 outputs * the 5*5 filtered/pooled map size\n",
        "        self.fc1 = nn.Linear(20*5*5, 50)\n",
        "        \n",
        "        # dropout with p=0.4\n",
        "        self.fc1_drop = nn.Dropout(p=0.4)\n",
        "        \n",
        "        # finally, create 10 output channels (for the 10 classes)\n",
        "        self.fc2 = nn.Linear(50, 10)\n",
        "\n",
        "    # define the feedforward behavior\n",
        "    def forward(self, x):\n",
        "        # two conv/relu + pool layers\n",
        "        x = self.pool(F.relu(self.conv1(x)))\n",
        "        x = self.pool(F.relu(self.conv2(x)))\n",
        "\n",
        "        # prep for linear layer\n",
        "        # this line of code is the equivalent of Flatten in Keras\n",
        "        x = x.view(x.size(0), -1)\n",
        "        \n",
        "        # two linear layers with dropout in between\n",
        "        x = F.relu(self.fc1(x))\n",
        "        x = self.fc1_drop(x)\n",
        "        x = self.fc2(x)\n",
        "        \n",
        "        # final output\n",
        "        return x\n",
        "\n",
        "# instantiate and print your Net\n",
        "net = Net()\n",
        "print(net)"
      ],
      "execution_count": 8,
      "outputs": [
        {
          "output_type": "stream",
          "text": [
            "Net(\n",
            "  (conv1): Conv2d(1, 10, kernel_size=(3, 3), stride=(1, 1))\n",
            "  (pool): MaxPool2d(kernel_size=2, stride=2, padding=0, dilation=1, ceil_mode=False)\n",
            "  (conv2): Conv2d(10, 20, kernel_size=(3, 3), stride=(1, 1))\n",
            "  (fc1): Linear(in_features=500, out_features=50, bias=True)\n",
            "  (fc1_drop): Dropout(p=0.4, inplace=False)\n",
            "  (fc2): Linear(in_features=50, out_features=10, bias=True)\n",
            ")\n"
          ],
          "name": "stdout"
        }
      ]
    },
    {
      "cell_type": "code",
      "metadata": {
        "id": "GlS6rz9yaAw3",
        "colab_type": "code",
        "colab": {}
      },
      "source": [
        "import torch.optim as optim\n",
        "\n",
        "## TODO: specify loss function\n",
        "# using cross entropy whcih combines softmax and NLL loss\n",
        "criterion = nn.CrossEntropyLoss()\n",
        "\n",
        "## TODO: specify optimizer \n",
        "# stochastic gradient descent with a small learning rate AND some momentum\n",
        "optimizer = optim.SGD(net.parameters(), lr=0.001, momentum=0.9)"
      ],
      "execution_count": 0,
      "outputs": []
    },
    {
      "cell_type": "code",
      "metadata": {
        "id": "GY25N2VoaDpx",
        "colab_type": "code",
        "colab": {
          "base_uri": "https://localhost:8080/",
          "height": 34
        },
        "outputId": "d395490f-6da2-4e28-b202-38bedba9d69e"
      },
      "source": [
        "# Calculate accuracy before training\n",
        "correct = 0\n",
        "total = 0\n",
        "\n",
        "# Iterate through test dataset\n",
        "for images, labels in test_loader:\n",
        "\n",
        "    # forward pass to get outputs\n",
        "    # the outputs are a series of class scores\n",
        "    outputs = net(images)\n",
        "\n",
        "    # get the predicted class from the maximum value in the output-list of class scores\n",
        "    _, predicted = torch.max(outputs.data, 1)\n",
        "\n",
        "    # count up total number of correct labels\n",
        "    # for which the predicted and true labels are equal\n",
        "    total += labels.size(0)\n",
        "    correct += (predicted == labels).sum()\n",
        "\n",
        "# calculate the accuracy\n",
        "# to convert `correct` from a Tensor into a scalar, use .item()\n",
        "accuracy = 100.0 * correct.item() / total\n",
        "\n",
        "# print it out!\n",
        "print('Accuracy before training: ', accuracy)"
      ],
      "execution_count": 10,
      "outputs": [
        {
          "output_type": "stream",
          "text": [
            "Accuracy before training:  12.29\n"
          ],
          "name": "stdout"
        }
      ]
    },
    {
      "cell_type": "code",
      "metadata": {
        "id": "928OGizdaFfg",
        "colab_type": "code",
        "colab": {}
      },
      "source": [
        ""
      ],
      "execution_count": 0,
      "outputs": []
    },
    {
      "cell_type": "markdown",
      "metadata": {
        "id": "vbHACP58aLJq",
        "colab_type": "text"
      },
      "source": [
        "### Train the Network\n",
        "\n",
        "Below, we've defined a `train` function that takes in a number of epochs to train for. \n",
        "* The number of epochs is how many times a network will cycle through the entire training dataset. \n",
        "* Inside the epoch loop, we loop over the training dataset in batches; recording the loss every 1000 batches.\n",
        "\n",
        "Here are the steps that this training function performs as it iterates over the training dataset:\n",
        "\n",
        "1. Zero's the gradients to prepare for a forward pass\n",
        "2. Passes the input through the network (forward pass)\n",
        "3. Computes the loss (how far is the predicted classes are from the correct labels)\n",
        "4. Propagates gradients back into the network’s parameters (backward pass)\n",
        "5. Updates the weights (parameter update)\n",
        "6. Prints out the calculated loss\n"
      ]
    },
    {
      "cell_type": "code",
      "metadata": {
        "id": "oBs84HAvaLgw",
        "colab_type": "code",
        "colab": {}
      },
      "source": [
        "def train(n_epochs):\n",
        "    \n",
        "    loss_over_time = [] # to track the loss as the network trains\n",
        "    \n",
        "    for epoch in range(n_epochs):  # loop over the dataset multiple times\n",
        "        \n",
        "        running_loss = 0.0\n",
        "        \n",
        "        for batch_i, data in enumerate(train_loader):\n",
        "            # get the input images and their corresponding labels\n",
        "            inputs, labels = data\n",
        "\n",
        "            # zero the parameter (weight) gradients\n",
        "            optimizer.zero_grad()\n",
        "\n",
        "            # forward pass to get outputs\n",
        "            outputs = net(inputs)\n",
        "\n",
        "            # calculate the loss\n",
        "            loss = criterion(outputs, labels)\n",
        "\n",
        "            # backward pass to calculate the parameter gradients\n",
        "            loss.backward()\n",
        "\n",
        "            # update the parameters\n",
        "            optimizer.step()\n",
        "\n",
        "            # print loss statistics\n",
        "            # to convert loss into a scalar and add it to running_loss, we use .item()\n",
        "            running_loss += loss.item()\n",
        "            \n",
        "            if batch_i % 1000 == 999:    # print every 1000 batches\n",
        "                avg_loss = running_loss/1000\n",
        "                # record and print the avg loss over the 1000 batches\n",
        "                loss_over_time.append(avg_loss)\n",
        "                print('Epoch: {}, Batch: {}, Avg. Loss: {}'.format(epoch + 1, batch_i+1, avg_loss))\n",
        "                running_loss = 0.0\n",
        "\n",
        "    print('Finished Training')\n",
        "    return loss_over_time\n"
      ],
      "execution_count": 0,
      "outputs": []
    },
    {
      "cell_type": "code",
      "metadata": {
        "id": "R3Bh_1VjaNQW",
        "colab_type": "code",
        "colab": {
          "base_uri": "https://localhost:8080/",
          "height": 1000
        },
        "outputId": "16688043-4a5b-4450-89db-6f41de4dcede"
      },
      "source": [
        "# define the number of epochs to train for\n",
        "n_epochs = 30 # start small to see if your model works, initially\n",
        "\n",
        "# call train\n",
        "training_loss = train(n_epochs)"
      ],
      "execution_count": 12,
      "outputs": [
        {
          "output_type": "stream",
          "text": [
            "Epoch: 1, Batch: 1000, Avg. Loss: 1.5886062551140785\n",
            "Epoch: 1, Batch: 2000, Avg. Loss: 0.9027181954979897\n",
            "Epoch: 1, Batch: 3000, Avg. Loss: 0.7921221467256546\n",
            "Epoch: 2, Batch: 1000, Avg. Loss: 0.7227315821051598\n",
            "Epoch: 2, Batch: 2000, Avg. Loss: 0.6878473876863718\n",
            "Epoch: 2, Batch: 3000, Avg. Loss: 0.6618102329075336\n",
            "Epoch: 3, Batch: 1000, Avg. Loss: 0.6264831718504429\n",
            "Epoch: 3, Batch: 2000, Avg. Loss: 0.6008760548382998\n",
            "Epoch: 3, Batch: 3000, Avg. Loss: 0.5848137874305248\n",
            "Epoch: 4, Batch: 1000, Avg. Loss: 0.5724540710151196\n",
            "Epoch: 4, Batch: 2000, Avg. Loss: 0.5601785968840122\n",
            "Epoch: 4, Batch: 3000, Avg. Loss: 0.5502052016109228\n",
            "Epoch: 5, Batch: 1000, Avg. Loss: 0.5386839891821146\n",
            "Epoch: 5, Batch: 2000, Avg. Loss: 0.5252480185106396\n",
            "Epoch: 5, Batch: 3000, Avg. Loss: 0.5210947518944741\n",
            "Epoch: 6, Batch: 1000, Avg. Loss: 0.5018842022716999\n",
            "Epoch: 6, Batch: 2000, Avg. Loss: 0.49925814355164766\n",
            "Epoch: 6, Batch: 3000, Avg. Loss: 0.4992397274672985\n",
            "Epoch: 7, Batch: 1000, Avg. Loss: 0.49754073905199764\n",
            "Epoch: 7, Batch: 2000, Avg. Loss: 0.4754921398311853\n",
            "Epoch: 7, Batch: 3000, Avg. Loss: 0.4677265258058906\n",
            "Epoch: 8, Batch: 1000, Avg. Loss: 0.4621285559982061\n",
            "Epoch: 8, Batch: 2000, Avg. Loss: 0.46150997290760276\n",
            "Epoch: 8, Batch: 3000, Avg. Loss: 0.46594113869220016\n",
            "Epoch: 9, Batch: 1000, Avg. Loss: 0.45097383654303846\n",
            "Epoch: 9, Batch: 2000, Avg. Loss: 0.4473856356628239\n",
            "Epoch: 9, Batch: 3000, Avg. Loss: 0.44610522817447784\n",
            "Epoch: 10, Batch: 1000, Avg. Loss: 0.43848623798042535\n",
            "Epoch: 10, Batch: 2000, Avg. Loss: 0.44695351031422614\n",
            "Epoch: 10, Batch: 3000, Avg. Loss: 0.4311223095096648\n",
            "Epoch: 11, Batch: 1000, Avg. Loss: 0.42653713558241724\n",
            "Epoch: 11, Batch: 2000, Avg. Loss: 0.41879648192226887\n",
            "Epoch: 11, Batch: 3000, Avg. Loss: 0.4321516441628337\n",
            "Epoch: 12, Batch: 1000, Avg. Loss: 0.4239761570096016\n",
            "Epoch: 12, Batch: 2000, Avg. Loss: 0.41212735053524374\n",
            "Epoch: 12, Batch: 3000, Avg. Loss: 0.4088031092248857\n",
            "Epoch: 13, Batch: 1000, Avg. Loss: 0.4053789192698896\n",
            "Epoch: 13, Batch: 2000, Avg. Loss: 0.40935920464247466\n",
            "Epoch: 13, Batch: 3000, Avg. Loss: 0.405243403069675\n",
            "Epoch: 14, Batch: 1000, Avg. Loss: 0.40211257865279915\n",
            "Epoch: 14, Batch: 2000, Avg. Loss: 0.3995360818915069\n",
            "Epoch: 14, Batch: 3000, Avg. Loss: 0.39946620690822604\n",
            "Epoch: 15, Batch: 1000, Avg. Loss: 0.3943254200220108\n",
            "Epoch: 15, Batch: 2000, Avg. Loss: 0.39639357114210727\n",
            "Epoch: 15, Batch: 3000, Avg. Loss: 0.3927480665370822\n",
            "Epoch: 16, Batch: 1000, Avg. Loss: 0.3887743824273348\n",
            "Epoch: 16, Batch: 2000, Avg. Loss: 0.3872763520181179\n",
            "Epoch: 16, Batch: 3000, Avg. Loss: 0.37625162111595273\n",
            "Epoch: 17, Batch: 1000, Avg. Loss: 0.3811907941251993\n",
            "Epoch: 17, Batch: 2000, Avg. Loss: 0.3781644725985825\n",
            "Epoch: 17, Batch: 3000, Avg. Loss: 0.3730900655835867\n",
            "Epoch: 18, Batch: 1000, Avg. Loss: 0.37370277412980796\n",
            "Epoch: 18, Batch: 2000, Avg. Loss: 0.3737643576078117\n",
            "Epoch: 18, Batch: 3000, Avg. Loss: 0.3700774054676294\n",
            "Epoch: 19, Batch: 1000, Avg. Loss: 0.36984855139628053\n",
            "Epoch: 19, Batch: 2000, Avg. Loss: 0.3622434543594718\n",
            "Epoch: 19, Batch: 3000, Avg. Loss: 0.36725743855535986\n",
            "Epoch: 20, Batch: 1000, Avg. Loss: 0.3574826922938228\n",
            "Epoch: 20, Batch: 2000, Avg. Loss: 0.35656715162470937\n",
            "Epoch: 20, Batch: 3000, Avg. Loss: 0.36252946945652365\n",
            "Epoch: 21, Batch: 1000, Avg. Loss: 0.3577659809887409\n",
            "Epoch: 21, Batch: 2000, Avg. Loss: 0.34890939315781\n",
            "Epoch: 21, Batch: 3000, Avg. Loss: 0.36067976723238826\n",
            "Epoch: 22, Batch: 1000, Avg. Loss: 0.353337363159284\n",
            "Epoch: 22, Batch: 2000, Avg. Loss: 0.3428910424932837\n",
            "Epoch: 22, Batch: 3000, Avg. Loss: 0.3509256653934717\n",
            "Epoch: 23, Batch: 1000, Avg. Loss: 0.3367158884331584\n",
            "Epoch: 23, Batch: 2000, Avg. Loss: 0.34694091164320706\n",
            "Epoch: 23, Batch: 3000, Avg. Loss: 0.3453549532145262\n",
            "Epoch: 24, Batch: 1000, Avg. Loss: 0.3394462859146297\n",
            "Epoch: 24, Batch: 2000, Avg. Loss: 0.33597695280238987\n",
            "Epoch: 24, Batch: 3000, Avg. Loss: 0.3422182818129659\n",
            "Epoch: 25, Batch: 1000, Avg. Loss: 0.33933887533470986\n",
            "Epoch: 25, Batch: 2000, Avg. Loss: 0.338762885350734\n",
            "Epoch: 25, Batch: 3000, Avg. Loss: 0.32898735127970574\n",
            "Epoch: 26, Batch: 1000, Avg. Loss: 0.32684472181089225\n",
            "Epoch: 26, Batch: 2000, Avg. Loss: 0.33517982164770366\n",
            "Epoch: 26, Batch: 3000, Avg. Loss: 0.3377538083586842\n",
            "Epoch: 27, Batch: 1000, Avg. Loss: 0.3201046114079654\n",
            "Epoch: 27, Batch: 2000, Avg. Loss: 0.33131928900815544\n",
            "Epoch: 27, Batch: 3000, Avg. Loss: 0.33154011522606014\n",
            "Epoch: 28, Batch: 1000, Avg. Loss: 0.3197378377178684\n",
            "Epoch: 28, Batch: 2000, Avg. Loss: 0.3235681815557182\n",
            "Epoch: 28, Batch: 3000, Avg. Loss: 0.3198680080771446\n",
            "Epoch: 29, Batch: 1000, Avg. Loss: 0.315391038460657\n",
            "Epoch: 29, Batch: 2000, Avg. Loss: 0.3228025292735547\n",
            "Epoch: 29, Batch: 3000, Avg. Loss: 0.3225135410167277\n",
            "Epoch: 30, Batch: 1000, Avg. Loss: 0.3222876718081534\n",
            "Epoch: 30, Batch: 2000, Avg. Loss: 0.3106957792490721\n",
            "Epoch: 30, Batch: 3000, Avg. Loss: 0.3231590503677726\n",
            "Finished Training\n"
          ],
          "name": "stdout"
        }
      ]
    },
    {
      "cell_type": "code",
      "metadata": {
        "id": "zpK9-6J3aRch",
        "colab_type": "code",
        "colab": {
          "base_uri": "https://localhost:8080/",
          "height": 283
        },
        "outputId": "ce3b13f4-412a-46dc-b615-e1bd7e83101d"
      },
      "source": [
        "# visualize the loss as the network trained\n",
        "plt.plot(training_loss)\n",
        "plt.xlabel('1000\\'s of batches')\n",
        "plt.ylabel('loss')\n",
        "plt.ylim(0, 2.5) # consistent scale\n",
        "plt.show()"
      ],
      "execution_count": 13,
      "outputs": [
        {
          "output_type": "display_data",
          "data": {
            "image/png": "[encoded data removed]",
            "text/plain": [
              "<Figure size 432x288 with 1 Axes>"
            ]
          },
          "metadata": {
            "tags": []
          }
        }
      ]
    },
    {
      "cell_type": "code",
      "metadata": {
        "id": "t8QlwC-idX2t",
        "colab_type": "code",
        "colab": {
          "base_uri": "https://localhost:8080/",
          "height": 255
        },
        "outputId": "4e0c1bf2-6c3e-4348-8b42-42ef1ca276e5"
      },
      "source": [
        "# Test the trained network\n",
        "# initialize tensor and lists to monitor test loss and accuracy\n",
        "test_loss = torch.zeros(1)\n",
        "class_correct = list(0. for i in range(10))\n",
        "class_total = list(0. for i in range(10))\n",
        "\n",
        "# set the module to evaluation mode\n",
        "net.eval()\n",
        "\n",
        "for batch_i, data in enumerate(test_loader):\n",
        "    \n",
        "    # get the input images and their corresponding labels\n",
        "    inputs, labels = data\n",
        "    \n",
        "    # forward pass to get outputs\n",
        "    outputs = net(inputs)\n",
        "\n",
        "    # calculate the loss\n",
        "    loss = criterion(outputs, labels)\n",
        "            \n",
        "    # update average test loss \n",
        "    test_loss = test_loss + ((torch.ones(1) / (batch_i + 1)) * (loss.data - test_loss))\n",
        "    \n",
        "    # get the predicted class from the maximum value in the output-list of class scores\n",
        "    _, predicted = torch.max(outputs.data, 1)\n",
        "    \n",
        "    # compare predictions to true label\n",
        "    # this creates a `correct` Tensor that holds the number of correctly classified images in a batch\n",
        "    correct = np.squeeze(predicted.eq(labels.data.view_as(predicted)))\n",
        "    \n",
        "    # calculate test accuracy for *each* object class\n",
        "    # we get the scalar value of correct items for a class, by calling `correct[i].item()`\n",
        "    for i in range(batch_size):\n",
        "        label = labels.data[i]\n",
        "        class_correct[label] += correct[i].item()\n",
        "        class_total[label] += 1\n",
        "\n",
        "print('Test Loss: {:.6f}\\n'.format(test_loss.numpy()[0]))\n",
        "\n",
        "for i in range(10):\n",
        "    if class_total[i] > 0:\n",
        "        print('Test Accuracy of %5s: %2d%% (%2d/%2d)' % (\n",
        "            classes[i], 100 * class_correct[i] / class_total[i],\n",
        "            np.sum(class_correct[i]), np.sum(class_total[i])))\n",
        "    else:\n",
        "        print('Test Accuracy of %5s: N/A (no training examples)' % (classes[i]))\n",
        "\n",
        "        \n",
        "print('\\nTest Accuracy (Overall): %2d%% (%2d/%2d)' % (\n",
        "    100. * np.sum(class_correct) / np.sum(class_total),\n",
        "    np.sum(class_correct), np.sum(class_total)))"
      ],
      "execution_count": 14,
      "outputs": [
        {
          "output_type": "stream",
          "text": [
            "Test Loss: 0.312660\n",
            "\n",
            "Test Accuracy of T-shirt/top: 82% (824/1000)\n",
            "Test Accuracy of Trouser: 97% (976/1000)\n",
            "Test Accuracy of Pullover: 73% (738/1000)\n",
            "Test Accuracy of Dress: 89% (899/1000)\n",
            "Test Accuracy of  Coat: 89% (892/1000)\n",
            "Test Accuracy of Sandal: 96% (960/1000)\n",
            "Test Accuracy of Shirt: 67% (673/1000)\n",
            "Test Accuracy of Sneaker: 98% (980/1000)\n",
            "Test Accuracy of   Bag: 97% (975/1000)\n",
            "Test Accuracy of Ankle boot: 93% (930/1000)\n",
            "\n",
            "Test Accuracy (Overall): 88% (8847/10000)\n"
          ],
          "name": "stdout"
        }
      ]
    },
    {
      "cell_type": "code",
      "metadata": {
        "id": "bUNEU6FGdfWM",
        "colab_type": "code",
        "colab": {
          "base_uri": "https://localhost:8080/",
          "height": 268
        },
        "outputId": "5161b71e-313f-443d-8c6e-be4c2dc92678"
      },
      "source": [
        "# obtain one batch of test images\n",
        "dataiter = iter(test_loader)\n",
        "images, labels = dataiter.next()\n",
        "# get predictions\n",
        "preds = np.squeeze(net(images).data.max(1, keepdim=True)[1].numpy())\n",
        "images = images.numpy()\n",
        "\n",
        "# plot the images in the batch, along with predicted and true labels\n",
        "fig = plt.figure(figsize=(25, 4))\n",
        "for idx in np.arange(batch_size):\n",
        "    ax = fig.add_subplot(2, batch_size/2, idx+1, xticks=[], yticks=[])\n",
        "    ax.imshow(np.squeeze(images[idx]), cmap='gray')\n",
        "    ax.set_title(\"{} ({})\".format(classes[preds[idx]], classes[labels[idx]]),\n",
        "                 color=(\"green\" if preds[idx]==labels[idx] else \"red\"))"
      ],
      "execution_count": 15,
      "outputs": [
        {
          "output_type": "display_data",
          "data": {
            "image/png": "[encoded data removed]",
            "text/plain": [
              "<Figure size 1800x288 with 20 Axes>"
            ]
          },
          "metadata": {
            "tags": []
          }
        }
      ]
    },
    {
      "cell_type": "markdown",
      "metadata": {
        "id": "0dziHOh3dl_G",
        "colab_type": "text"
      },
      "source": [
        "### Question: What are some weaknesses of your model? (And how might you improve these in future iterations.)\n",
        "**Answer**: Since t-shirts, shirts, and coats have a similar overall shape, my model has trouble distinguishing between those items. In fact, its lowest test class accuracy is: `Test Accuracy of Shirt`, which this model only gets right about 60% of the time . \n",
        "\n",
        "I suspect that this accuracy could be improved by doing some data augmentation with respect to these classes or even adding another convolutional layer to extract even higher level features."
      ]
    },
    {
      "cell_type": "code",
      "metadata": {
        "id": "_dzBdIj0dqjM",
        "colab_type": "code",
        "colab": {}
      },
      "source": [
        "# Saving the model\n",
        "model_dir = './'\n",
        "model_name = 'fashion_net_ex.pt'\n",
        "\n",
        "# after training, save your model parameters in the dir 'saved_models'\n",
        "# when you're ready, un-comment the line below\n",
        "torch.save(net.state_dict(), model_dir+model_name)"
      ],
      "execution_count": 0,
      "outputs": []
    },
    {
      "cell_type": "code",
      "metadata": {
        "id": "sH41x-jgeAPl",
        "colab_type": "code",
        "colab": {}
      },
      "source": [
        ""
      ],
      "execution_count": 0,
      "outputs": []
    }
  ]
}